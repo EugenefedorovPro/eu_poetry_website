{
 "cells": [
  {
   "cell_type": "code",
   "execution_count": 2,
   "metadata": {},
   "outputs": [],
   "source": [
    "import pandas as pd\n",
    "from mysql.connector import connect, cursor\n",
    "from getpass import getpass\n",
    "from sqlalchemy import create_engine\n",
    "import MySQLdb\n",
    "import sqlite3"
   ]
  },
  {
   "cell_type": "code",
   "execution_count": 3,
   "metadata": {},
   "outputs": [],
   "source": [
    "password = getpass(\"enter password\")"
   ]
  },
  {
   "cell_type": "code",
   "execution_count": 4,
   "metadata": {},
   "outputs": [],
   "source": [
    "url = \"mysql://root:\" + password + \"@localhost/eu_verses\""
   ]
  },
  {
   "cell_type": "code",
   "execution_count": 5,
   "metadata": {},
   "outputs": [
    {
     "name": "stdout",
     "output_type": "stream",
     "text": [
      "2022-10-23 16:09:04,332 INFO sqlalchemy.engine.Engine SELECT DATABASE()\n",
      "2022-10-23 16:09:04,332 INFO sqlalchemy.engine.Engine [raw sql] ()\n",
      "2022-10-23 16:09:04,333 INFO sqlalchemy.engine.Engine SELECT @@sql_mode\n",
      "2022-10-23 16:09:04,334 INFO sqlalchemy.engine.Engine [raw sql] ()\n",
      "2022-10-23 16:09:04,335 INFO sqlalchemy.engine.Engine SELECT @@lower_case_table_names\n",
      "2022-10-23 16:09:04,335 INFO sqlalchemy.engine.Engine [raw sql] ()\n"
     ]
    }
   ],
   "source": [
    "engine = create_engine(url, echo=True)\n",
    "connection = engine.connect()"
   ]
  },
  {
   "cell_type": "code",
   "execution_count": 6,
   "metadata": {},
   "outputs": [
    {
     "name": "stdout",
     "output_type": "stream",
     "text": [
      "2022-10-23 16:09:04,367 INFO sqlalchemy.engine.Engine SELECT COUNT(*) FROM information_schema.tables WHERE table_schema = %s AND table_name = %s\n",
      "2022-10-23 16:09:04,367 INFO sqlalchemy.engine.Engine [generated in 0.00094s] ('eu_verses', 'SELECT * FROM raw_verses')\n",
      "2022-10-23 16:09:04,372 INFO sqlalchemy.engine.Engine SELECT * FROM raw_verses\n",
      "2022-10-23 16:09:04,373 INFO sqlalchemy.engine.Engine [raw sql] ()\n"
     ]
    }
   ],
   "source": [
    "pd_verses = pd.read_sql(\"SELECT * FROM raw_verses\", connection)"
   ]
  },
  {
   "cell_type": "code",
   "execution_count": 7,
   "metadata": {},
   "outputs": [
    {
     "name": "stdout",
     "output_type": "stream",
     "text": [
      "\n",
      "Событие - это из ряда вон:\n",
      "срыв голоса на чердаке нотного ряда;\n",
      "зияние между приставкой и корнем,\n",
      "напиханное отрубями, словами, мятой;\n",
      "спотыкание мантры о повторение;\n",
      "Одновременный вид лица и затылка,\n",
      "на шлифовальном станке зрения.\n",
      "\n",
      "О - амфора для содержания - хра:\n",
      "эссенция хрипа, чтобы присыпать\n",
      "из ребра вытекающий,\n",
      "бреющий от края до края,\n",
      "пугающий, бающий, тлеющий,\n",
      "К старой газете прилипший, желтеющий\n",
      "Со - хрящик надломленный - бытия.\n",
      "\n",
      "Ты пережевывал вечность во время оно:\n",
      "на вкус - спирт, зерно, бумага, кислая медь,\n",
      "но сегодня вкус остуствтует в опыте -\n",
      "Забились небесные трубы жиром и копотью,\n",
      "Тошнота наплывает ворванью к горлу,\n",
      "упаси боже от такого сытого корма,\n",
      "Ржа - вертится на языке - веть.\n",
      "\n",
      "Эхо требует уха.\n",
      "По - краю, открою, узнаю - вторение:\n",
      "я прихожу к себе издалека -\n",
      "это услуга двойного словоупотребления.\n",
      "И не хватит никакого слуха, когда,\n",
      "выпадая из ряда вон, в ухо входит\n",
      "эха транспортный эшелон.\n",
      "\n"
     ]
    }
   ],
   "source": [
    "print(pd_verses[\"verses\"][10])"
   ]
  },
  {
   "cell_type": "code",
   "execution_count": 8,
   "metadata": {},
   "outputs": [
    {
     "data": {
      "text/html": [
       "<div>\n",
       "<style scoped>\n",
       "    .dataframe tbody tr th:only-of-type {\n",
       "        vertical-align: middle;\n",
       "    }\n",
       "\n",
       "    .dataframe tbody tr th {\n",
       "        vertical-align: top;\n",
       "    }\n",
       "\n",
       "    .dataframe thead th {\n",
       "        text-align: right;\n",
       "    }\n",
       "</style>\n",
       "<table border=\"1\" class=\"dataframe\">\n",
       "  <thead>\n",
       "    <tr style=\"text-align: right;\">\n",
       "      <th></th>\n",
       "      <th>id</th>\n",
       "      <th>file_name</th>\n",
       "      <th>date_of_writing</th>\n",
       "      <th>title</th>\n",
       "      <th>verses</th>\n",
       "    </tr>\n",
       "  </thead>\n",
       "  <tbody>\n",
       "    <tr>\n",
       "      <th>0</th>\n",
       "      <td>1</td>\n",
       "      <td>avva.html</td>\n",
       "      <td>2012-01-16</td>\n",
       "      <td>Авва</td>\n",
       "      <td>\\nАвва,\\nзачем высыхает небо?\\nПроступает соль...</td>\n",
       "    </tr>\n",
       "    <tr>\n",
       "      <th>1</th>\n",
       "      <td>2</td>\n",
       "      <td>bachinichego.html</td>\n",
       "      <td>2011-02-08</td>\n",
       "      <td>Бах и ничего лишнего</td>\n",
       "      <td>\\nПятый еванглелист? Нет, работяга!\\nДля него ...</td>\n",
       "    </tr>\n",
       "    <tr>\n",
       "      <th>2</th>\n",
       "      <td>3</td>\n",
       "      <td>gdeyarostnej.html</td>\n",
       "      <td>2012-08-11</td>\n",
       "      <td>Где яростней тоска?</td>\n",
       "      <td>\\nГде яростней тоска?\\nГде можно ей упиться\\nИ...</td>\n",
       "    </tr>\n",
       "  </tbody>\n",
       "</table>\n",
       "</div>"
      ],
      "text/plain": [
       "   id          file_name date_of_writing                 title  \\\n",
       "0   1          avva.html      2012-01-16                  Авва   \n",
       "1   2  bachinichego.html      2011-02-08  Бах и ничего лишнего   \n",
       "2   3  gdeyarostnej.html      2012-08-11   Где яростней тоска?   \n",
       "\n",
       "                                              verses  \n",
       "0  \\nАвва,\\nзачем высыхает небо?\\nПроступает соль...  \n",
       "1  \\nПятый еванглелист? Нет, работяга!\\nДля него ...  \n",
       "2  \\nГде яростней тоска?\\nГде можно ей упиться\\nИ...  "
      ]
     },
     "execution_count": 8,
     "metadata": {},
     "output_type": "execute_result"
    }
   ],
   "source": [
    "pd_verses.iloc[0:3]"
   ]
  },
  {
   "cell_type": "code",
   "execution_count": 9,
   "metadata": {},
   "outputs": [],
   "source": [
    "sqlite_connection = sqlite3.connect(\"eu_verses_db.sqlite\")\n",
    "pd_verses.to_sql(\"raw_verses\", sqlite_connection, if_exists=\"replace\", index=False)\n",
    "sqlite_connection.close()"
   ]
  },
  {
   "cell_type": "code",
   "execution_count": 10,
   "metadata": {},
   "outputs": [],
   "source": [
    "sqlite_connection = sqlite3.connect(\"eu_verses_db.sqlite\")\n",
    "df = pd.read_sql_query(\"SELECT * FROM raw_verses\", sqlite_connection)\n",
    "sqlite_connection.close()"
   ]
  },
  {
   "cell_type": "code",
   "execution_count": 11,
   "metadata": {},
   "outputs": [
    {
     "data": {
      "text/html": [
       "<div>\n",
       "<style scoped>\n",
       "    .dataframe tbody tr th:only-of-type {\n",
       "        vertical-align: middle;\n",
       "    }\n",
       "\n",
       "    .dataframe tbody tr th {\n",
       "        vertical-align: top;\n",
       "    }\n",
       "\n",
       "    .dataframe thead th {\n",
       "        text-align: right;\n",
       "    }\n",
       "</style>\n",
       "<table border=\"1\" class=\"dataframe\">\n",
       "  <thead>\n",
       "    <tr style=\"text-align: right;\">\n",
       "      <th></th>\n",
       "      <th>id</th>\n",
       "      <th>file_name</th>\n",
       "      <th>date_of_writing</th>\n",
       "      <th>title</th>\n",
       "      <th>verses</th>\n",
       "    </tr>\n",
       "  </thead>\n",
       "  <tbody>\n",
       "    <tr>\n",
       "      <th>0</th>\n",
       "      <td>1</td>\n",
       "      <td>avva.html</td>\n",
       "      <td>2012-01-16</td>\n",
       "      <td>Авва</td>\n",
       "      <td>\\nАвва,\\nзачем высыхает небо?\\nПроступает соль...</td>\n",
       "    </tr>\n",
       "    <tr>\n",
       "      <th>1</th>\n",
       "      <td>2</td>\n",
       "      <td>bachinichego.html</td>\n",
       "      <td>2011-02-08</td>\n",
       "      <td>Бах и ничего лишнего</td>\n",
       "      <td>\\nПятый еванглелист? Нет, работяга!\\nДля него ...</td>\n",
       "    </tr>\n",
       "    <tr>\n",
       "      <th>2</th>\n",
       "      <td>3</td>\n",
       "      <td>gdeyarostnej.html</td>\n",
       "      <td>2012-08-11</td>\n",
       "      <td>Где яростней тоска?</td>\n",
       "      <td>\\nГде яростней тоска?\\nГде можно ей упиться\\nИ...</td>\n",
       "    </tr>\n",
       "  </tbody>\n",
       "</table>\n",
       "</div>"
      ],
      "text/plain": [
       "   id          file_name date_of_writing                 title  \\\n",
       "0   1          avva.html      2012-01-16                  Авва   \n",
       "1   2  bachinichego.html      2011-02-08  Бах и ничего лишнего   \n",
       "2   3  gdeyarostnej.html      2012-08-11   Где яростней тоска?   \n",
       "\n",
       "                                              verses  \n",
       "0  \\nАвва,\\nзачем высыхает небо?\\nПроступает соль...  \n",
       "1  \\nПятый еванглелист? Нет, работяга!\\nДля него ...  \n",
       "2  \\nГде яростней тоска?\\nГде можно ей упиться\\nИ...  "
      ]
     },
     "execution_count": 11,
     "metadata": {},
     "output_type": "execute_result"
    }
   ],
   "source": [
    "df.iloc[0:3]"
   ]
  },
  {
   "cell_type": "code",
   "execution_count": 12,
   "metadata": {},
   "outputs": [
    {
     "data": {
      "text/html": [
       "<div>\n",
       "<style scoped>\n",
       "    .dataframe tbody tr th:only-of-type {\n",
       "        vertical-align: middle;\n",
       "    }\n",
       "\n",
       "    .dataframe tbody tr th {\n",
       "        vertical-align: top;\n",
       "    }\n",
       "\n",
       "    .dataframe thead th {\n",
       "        text-align: right;\n",
       "    }\n",
       "</style>\n",
       "<table border=\"1\" class=\"dataframe\">\n",
       "  <thead>\n",
       "    <tr style=\"text-align: right;\">\n",
       "      <th></th>\n",
       "      <th>id</th>\n",
       "      <th>file_name</th>\n",
       "      <th>date_of_writing</th>\n",
       "      <th>title</th>\n",
       "      <th>verses</th>\n",
       "    </tr>\n",
       "  </thead>\n",
       "  <tbody>\n",
       "    <tr>\n",
       "      <th>0</th>\n",
       "      <td>1</td>\n",
       "      <td>avva.html</td>\n",
       "      <td>2012-01-16</td>\n",
       "      <td>Авва</td>\n",
       "      <td>\\nАвва,\\nзачем высыхает небо?\\nПроступает соль...</td>\n",
       "    </tr>\n",
       "    <tr>\n",
       "      <th>1</th>\n",
       "      <td>2</td>\n",
       "      <td>bachinichego.html</td>\n",
       "      <td>2011-02-08</td>\n",
       "      <td>Бах и ничего лишнего</td>\n",
       "      <td>\\nПятый еванглелист? Нет, работяга!\\nДля него ...</td>\n",
       "    </tr>\n",
       "    <tr>\n",
       "      <th>2</th>\n",
       "      <td>3</td>\n",
       "      <td>gdeyarostnej.html</td>\n",
       "      <td>2012-08-11</td>\n",
       "      <td>Где яростней тоска?</td>\n",
       "      <td>\\nГде яростней тоска?\\nГде можно ей упиться\\nИ...</td>\n",
       "    </tr>\n",
       "  </tbody>\n",
       "</table>\n",
       "</div>"
      ],
      "text/plain": [
       "   id          file_name date_of_writing                 title  \\\n",
       "0   1          avva.html      2012-01-16                  Авва   \n",
       "1   2  bachinichego.html      2011-02-08  Бах и ничего лишнего   \n",
       "2   3  gdeyarostnej.html      2012-08-11   Где яростней тоска?   \n",
       "\n",
       "                                              verses  \n",
       "0  \\nАвва,\\nзачем высыхает небо?\\nПроступает соль...  \n",
       "1  \\nПятый еванглелист? Нет, работяга!\\nДля него ...  \n",
       "2  \\nГде яростней тоска?\\nГде можно ей упиться\\nИ...  "
      ]
     },
     "execution_count": 12,
     "metadata": {},
     "output_type": "execute_result"
    }
   ],
   "source": [
    "pd_verses.iloc[0:3]"
   ]
  },
  {
   "cell_type": "code",
   "execution_count": 13,
   "metadata": {},
   "outputs": [],
   "source": [
    "file_name_json = \"eu_poetry.json\"\n",
    "pd_verses.to_json(file_name_json)"
   ]
  },
  {
   "cell_type": "code",
   "execution_count": 21,
   "metadata": {},
   "outputs": [
    {
     "data": {
      "text/html": [
       "<div>\n",
       "<style scoped>\n",
       "    .dataframe tbody tr th:only-of-type {\n",
       "        vertical-align: middle;\n",
       "    }\n",
       "\n",
       "    .dataframe tbody tr th {\n",
       "        vertical-align: top;\n",
       "    }\n",
       "\n",
       "    .dataframe thead th {\n",
       "        text-align: right;\n",
       "    }\n",
       "</style>\n",
       "<table border=\"1\" class=\"dataframe\">\n",
       "  <thead>\n",
       "    <tr style=\"text-align: right;\">\n",
       "      <th></th>\n",
       "      <th>id</th>\n",
       "      <th>file_name</th>\n",
       "      <th>date_of_writing</th>\n",
       "      <th>title</th>\n",
       "      <th>verses</th>\n",
       "    </tr>\n",
       "  </thead>\n",
       "  <tbody>\n",
       "    <tr>\n",
       "      <th>0</th>\n",
       "      <td>True</td>\n",
       "      <td>True</td>\n",
       "      <td>False</td>\n",
       "      <td>True</td>\n",
       "      <td>True</td>\n",
       "    </tr>\n",
       "    <tr>\n",
       "      <th>1</th>\n",
       "      <td>True</td>\n",
       "      <td>True</td>\n",
       "      <td>False</td>\n",
       "      <td>True</td>\n",
       "      <td>True</td>\n",
       "    </tr>\n",
       "    <tr>\n",
       "      <th>2</th>\n",
       "      <td>True</td>\n",
       "      <td>True</td>\n",
       "      <td>False</td>\n",
       "      <td>True</td>\n",
       "      <td>True</td>\n",
       "    </tr>\n",
       "  </tbody>\n",
       "</table>\n",
       "</div>"
      ],
      "text/plain": [
       "     id  file_name  date_of_writing  title  verses\n",
       "0  True       True            False   True    True\n",
       "1  True       True            False   True    True\n",
       "2  True       True            False   True    True"
      ]
     },
     "execution_count": 21,
     "metadata": {},
     "output_type": "execute_result"
    }
   ],
   "source": [
    "pd.read_json(file_name_json)[0:3] == pd_verses[0:3]"
   ]
  },
  {
   "cell_type": "code",
   "execution_count": null,
   "metadata": {},
   "outputs": [],
   "source": []
  }
 ],
 "metadata": {
  "kernelspec": {
   "display_name": "Python 3.10.5 ('poetry_site_venv': venv)",
   "language": "python",
   "name": "python3"
  },
  "language_info": {
   "codemirror_mode": {
    "name": "ipython",
    "version": 3
   },
   "file_extension": ".py",
   "mimetype": "text/x-python",
   "name": "python",
   "nbconvert_exporter": "python",
   "pygments_lexer": "ipython3",
   "version": "3.10.5"
  },
  "orig_nbformat": 4,
  "vscode": {
   "interpreter": {
    "hash": "340f75e9b78c3cba4fb7eb15d4071ece4eb18fa2d57622caa17a25cba78a1134"
   }
  }
 },
 "nbformat": 4,
 "nbformat_minor": 2
}
