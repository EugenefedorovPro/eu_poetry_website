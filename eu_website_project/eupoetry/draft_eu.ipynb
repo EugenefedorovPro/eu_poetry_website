{
 "cells": [
  {
   "cell_type": "code",
   "execution_count": 1,
   "metadata": {},
   "outputs": [],
   "source": [
    "import sqlite3\n",
    "import pandas as pd\n",
    "from pathlib import Path\n",
    "import re\n",
    "import sqlite3\n",
    "import json\n",
    "import random"
   ]
  },
  {
   "cell_type": "code",
   "execution_count": 2,
   "metadata": {},
   "outputs": [
    {
     "name": "stdout",
     "output_type": "stream",
     "text": [
      "(1, 'avva.html', '2012-01-16', 'Авва', '\\nАвва,\\nзачем высыхает небо?\\nПроступает соль?\\nИ каждому, иногда совсем не в меру,\\nбросают в открытую рану веры\\nщепотку - для сохранения веры боль?\\n\\nАвва,\\nкак рождается забота Ребекки\\nдля тех, кто не может поднять веки,\\nиспечь пару окраин хлеба\\nс тем же горчайшим привкусом неба -\\nВсе той же потери боль?\\n\\nОткуда у сына берутся силы\\nсплести из бедренной жилы\\nкротчайшего нрава\\nгулко звучащее слово -\\n\"Авва\"?\\n\\nСкажи мне,\\nчтобы утихла боль...\\n')\n"
     ]
    }
   ],
   "source": [
    "# connect to db and get a verse from the main db\n",
    "def connect_to_dbsqlite3():\n",
    "    path_db = Path.cwd().parent / \"eu_verses_db.sqlite\"\n",
    "    connect = sqlite3.connect(path_db)\n",
    "    cur = connect.cursor()\n",
    "    return connect, cur\n",
    "\n",
    "connect, cur = connect_to_dbsqlite3()\n",
    "\n",
    "quiry_result = cur.execute(\"SELECT * FROM raw_verses\")\n",
    "print(quiry_result.fetchone())"
   ]
  },
  {
   "cell_type": "code",
   "execution_count": 3,
   "metadata": {},
   "outputs": [
    {
     "name": "stdout",
     "output_type": "stream",
     "text": [
      "number of words id 1290\n",
      "example of id words [(16, 'младенца'), (18, 'грядущий'), (21, 'прогулку')]\n"
     ]
    }
   ],
   "source": [
    "#read sql raw_verses to pd\n",
    "pd_verses = pd.read_sql_query(\"SELECT * FROM raw_verses\",connect)\n",
    "\n",
    "# combine all verses into one string \n",
    "def get_verses_as_str(pd_verses):\n",
    "    verses_as_str = str()\n",
    "    for item in pd_verses[\"verses\"]:\n",
    "        verses_as_str += item\n",
    "    return verses_as_str\n",
    "\n",
    "verses_as_str = get_verses_as_str(pd_verses)\n",
    "\n",
    "# remove punctuation to leave onle unique separate words\n",
    "verses_as_separate_words = re.sub(r\"[^а-я|A-Я|ё|Ё]\", ' ', verses_as_str).split()\n",
    "verses_as_unique_words = list(set(verses_as_separate_words))\n",
    "\n",
    "# make list [id, (\"word\")]\n",
    "def make_id_word(pd_verses, verses_as_unique_words):\n",
    "    list_id_word = list()\n",
    "    for word in verses_as_unique_words:\n",
    "        id = pd_verses[pd_verses[\"verses\"].str.contains(word)][\"id\"].iloc[0]\n",
    "        id = int(id)\n",
    "        list_id_word.append((id, word.lower()))\n",
    "    return list_id_word\n",
    "\n",
    "\n",
    "list_id_word = make_id_word(pd_verses, verses_as_unique_words)\n",
    "print(\"number of words id\",len(list_id_word))\n",
    "print(\"example of id words\",list_id_word[0:3])\n",
    "connect.close()"
   ]
  },
  {
   "cell_type": "code",
   "execution_count": 16,
   "metadata": {},
   "outputs": [
    {
     "ename": "OperationalError",
     "evalue": "table id_word has 3 columns but 2 values were supplied",
     "output_type": "error",
     "traceback": [
      "\u001b[1;31m---------------------------------------------------------------------------\u001b[0m",
      "\u001b[1;31mOperationalError\u001b[0m                          Traceback (most recent call last)",
      "Cell \u001b[1;32mIn [16], line 21\u001b[0m\n\u001b[0;32m     18\u001b[0m cur\u001b[39m.\u001b[39mexecutescript(quiry_0)\n\u001b[0;32m     19\u001b[0m connect\u001b[39m.\u001b[39mcommit()\n\u001b[1;32m---> 21\u001b[0m cur\u001b[39m.\u001b[39;49mexecutemany(quiry_1, list_id_word)\n\u001b[0;32m     22\u001b[0m connect\u001b[39m.\u001b[39mcommit()\n\u001b[0;32m     24\u001b[0m quiry_result \u001b[39m=\u001b[39m cur\u001b[39m.\u001b[39mexecute(quiry_2)\n",
      "\u001b[1;31mOperationalError\u001b[0m: table id_word has 3 columns but 2 values were supplied"
     ]
    }
   ],
   "source": [
    "# create table id_word and populate it with id = number of verse\n",
    "# word = unique word, this verse contains\n",
    "connect, cur = connect_to_dbsqlite3()\n",
    "quiry_0 = \"\"\"\n",
    "DROP TABLE IF EXISTS id_word;\n",
    "    CREATE TABLE IF NOT EXISTS id_word (\n",
    "        id_word PRIMARY KEY,\n",
    "        id_raw_verses INT, \n",
    "        word VARCHAR(255), \n",
    "        FOREIGN KEY(id_raw_verses) REFERENCES raw_versese(id)\n",
    "    );\n",
    "\"\"\"\n",
    "quiry_1 = \"INSERT INTO id_word VALUES('id_raw_verses', 'word')\"\n",
    "quiry_2 = \"SELECT * FROM id_word\"\n",
    "\n",
    "quiry_result = cur.execute(quiry_2)\n",
    "\n",
    "cur.executescript(quiry_0)\n",
    "connect.commit()\n",
    "\n",
    "cur.executemany(quiry_1, list_id_word)\n",
    "connect.commit()\n",
    "\n",
    "quiry_result = cur.execute(quiry_2)\n",
    "print(quiry_result.fetchone())"
   ]
  },
  {
   "cell_type": "code",
   "execution_count": 12,
   "metadata": {},
   "outputs": [
    {
     "name": "stdout",
     "output_type": "stream",
     "text": [
      "11\n"
     ]
    }
   ],
   "source": [
    "# create dict_id_json_words\n",
    "def create_list_id_json_words(list_id_word):\n",
    "    n_unique_id = list(set((id_word[0] for id_word in list_id_word)))\n",
    "    list_id_json_words = []\n",
    "    for i in n_unique_id:\n",
    "        list_words = []\n",
    "        for id_word in list_id_word:\n",
    "            id, word = id_word[0], id_word[1]\n",
    "            if id == i:\n",
    "                list_words.append(word)\n",
    "        json_words = json.dumps(list_words)\n",
    "        list_id_json_words.append(tuple((i, json_words)))\n",
    "    return list_id_json_words\n",
    "\n",
    "list_id_json_words = create_list_id_json_words(list_id_word)\n",
    "print(list_id_json_words[10][0])\n",
    "        "
   ]
  },
  {
   "cell_type": "code",
   "execution_count": 13,
   "metadata": {},
   "outputs": [
    {
     "name": "stdout",
     "output_type": "stream",
     "text": [
      "['веры', 'во', 'мне', 'для', 'ребекки', 'сына', 'на', 'открытую', 'о', 'может', 'под', 'все', 'ре', 'привкусом', 'чтоб', 'рану', 'сплести', 'и', 'в', 'все', 'хлеба', 'веки', 'с', 'утихла', 'сохранения', 'в', 'дня', 'испечь', 'каждому', 'совсем', 'проступает', 'тем', 'потери', 'силы', 'б', 'кто', 'по', 'чем', 'авва', 'забота', 'его', 'чтобы', 'пару', 'той', 'окраин', 'щепотку', 'зачем', 'ране', 'бедренной', 'до', 'хра', 'н', 'рождается', 'звучащее', 'соль', 'откуда', 'высыхает', 'что', 'всем', 'ни', 'горчайшим', 'неба', 'дом', 'у', 'как', 'поднять', 'я', 'берутся', 'из', 'вкус', 'за', 'гулко', 'к', 'от', 'но', 'ос', 'же', 'не', 'слово', 'иногда', 'а', 'бросают', 'то', 'кротчайшего', 'и', 'жилы', 'скажи', 'нрава', 'о', 'а', 'тех', 'бы', 'меру', 'небо', 'боль']\n"
     ]
    }
   ],
   "source": [
    "# write id_json_words to sqlite\n",
    "quiry_3 = \"\"\"\n",
    "    DROP TABLE IF EXISTS id_json_words;\n",
    "    CREATE TABLE IF NOT EXISTS id_json_words (\n",
    "        id_json INT,\n",
    "        words VARCHAR(65535), \n",
    "        FOREIGN KEY (id_json) REFERENCES raw_verses(id) \n",
    "        );\n",
    "    \"\"\"\n",
    "cur.executescript(quiry_3)\n",
    "cur.executemany(\"INSERT INTO id_json_words VALUES (?, ?)\", \n",
    "                [(item[0], item[1]) for item in list_id_json_words]\n",
    "                ) \n",
    "connect.commit()\n",
    "example = cur.execute(\"SELECT words FROM id_json_words WHERE id_json=1;\").fetchall()\n",
    "print(json.loads(example[0][0]))"
   ]
  },
  {
   "cell_type": "code",
   "execution_count": 14,
   "metadata": {},
   "outputs": [
    {
     "name": "stdout",
     "output_type": "stream",
     "text": [
      "raw_verses [(22,)]\n",
      "id_word [(1290,)]\n",
      "id_json_words [(22,)]\n"
     ]
    }
   ],
   "source": [
    "# check tables created in sqlite\n",
    "print(\"raw_verses\", cur.execute(\"SELECT COUNT(*) FROM raw_verses\").fetchall())\n",
    "print(\"id_word\",cur.execute(\"SELECT COUNT(*) FROM id_word\").fetchall())\n",
    "print(\"id_json_words\", cur.execute(\"SELECT COUNT(*) FROM id_json_words\").fetchall())\n",
    "connect.close()"
   ]
  },
  {
   "cell_type": "code",
   "execution_count": 15,
   "metadata": {},
   "outputs": [
    {
     "name": "stdout",
     "output_type": "stream",
     "text": [
      "len of random words = 22\n",
      "{'о': 1, 'пения': 2, 'подножие': 3, 'твердыней': 4, 'тяжести': 5, 'пахнет': 6, 'троллейбусные': 7, 'неровен': 8, 'изъять': 9, 'погрешность': 10, 'голос': 11, 'выходит': 12, 'замирает': 13, 'мак': 14, 'коснется': 15, 'отпечатки': 16, 'казнить': 17, 'день': 18, 'поленья': 19, 'дверь': 20, 'весне': 21, 'гладом': 22}\n"
     ]
    }
   ],
   "source": [
    "# get dict {random word: verse id} drom db.sqlite3 \n",
    "connect, cur = connect_to_dbsqlite3()\n",
    "def get_random_words():\n",
    "    all_ids = cur.execute(\"SELECT id_json FROM id_json_words\").fetchall()\n",
    "    dict_random_words_id = {} \n",
    "    for i_d in all_ids:\n",
    "        words = cur.execute(\"SELECT words FROM id_json_words WHERE id_json=?\", i_d).fetchall() \n",
    "        words = json.loads(words[0][0])\n",
    "        random_word = words[random.randint(0, len(words)-1)]\n",
    "        dict_random_words_id[random_word] = i_d[0]\n",
    "    return dict_random_words_id\n",
    "\n",
    "dict_random_words_id = get_random_words()\n",
    "print(\"len of random words =\", len(dict_random_words_id))  \n",
    "print(dict_random_words_id) \n",
    "connect.close()"
   ]
  },
  {
   "cell_type": "code",
   "execution_count": null,
   "metadata": {},
   "outputs": [],
   "source": []
  }
 ],
 "metadata": {
  "kernelspec": {
   "display_name": "Python 3.10.5 ('poetry_site_venv': venv)",
   "language": "python",
   "name": "python3"
  },
  "language_info": {
   "codemirror_mode": {
    "name": "ipython",
    "version": 3
   },
   "file_extension": ".py",
   "mimetype": "text/x-python",
   "name": "python",
   "nbconvert_exporter": "python",
   "pygments_lexer": "ipython3",
   "version": "3.10.5"
  },
  "orig_nbformat": 4,
  "vscode": {
   "interpreter": {
    "hash": "340f75e9b78c3cba4fb7eb15d4071ece4eb18fa2d57622caa17a25cba78a1134"
   }
  }
 },
 "nbformat": 4,
 "nbformat_minor": 2
}
