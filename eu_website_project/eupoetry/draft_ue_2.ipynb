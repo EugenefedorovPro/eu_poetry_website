{
 "cells": [
  {
   "cell_type": "code",
   "execution_count": 2,
   "metadata": {},
   "outputs": [
    {
     "data": {
      "text/plain": [
       "range"
      ]
     },
     "execution_count": 2,
     "metadata": {},
     "output_type": "execute_result"
    }
   ],
   "source": [
    "type(range(0,10)"
   ]
  },
  {
   "cell_type": "code",
   "execution_count": null,
   "metadata": {},
   "outputs": [],
   "source": []
  },
  {
   "cell_type": "code",
   "execution_count": 1,
   "metadata": {},
   "outputs": [
    {
     "data": {
      "text/plain": [
       "2"
      ]
     },
     "execution_count": 1,
     "metadata": {},
     "output_type": "execute_result"
    }
   ],
   "source": [
    "my_dict = {1:\"to\", 2:\"be\"}\n",
    "len(my_dict)"
   ]
  },
  {
   "cell_type": "code",
   "execution_count": 3,
   "metadata": {},
   "outputs": [
    {
     "name": "stdout",
     "output_type": "stream",
     "text": [
      "[1, 2, 3, 4, 5, 6, 7, 8, 9, 10, 11, 12, 13, 14, 15, 16, 17, 18, 19, 20, 21, 22]\n",
      "22\n"
     ]
    },
    {
     "data": {
      "text/plain": [
       "[[1, 2, 3, 4],\n",
       " [5, 6, 7, 8],\n",
       " [9, 10, 11, 12],\n",
       " [13, 14, 15, 16],\n",
       " [17, 18, 19, 20],\n",
       " [21, 22]]"
      ]
     },
     "execution_count": 3,
     "metadata": {},
     "output_type": "execute_result"
    }
   ],
   "source": [
    "rand_words = list(range(1,23))\n",
    "print(rand_words)\n",
    "print(len(rand_words))\n",
    "n_rand_words = 22\n",
    "\n",
    "def split_to_rows(rand_words, rows = []):\n",
    "    if len(rand_words) < 4:\n",
    "        rows.append(rand_words)\n",
    "        return rows\n",
    "    rows.append(rand_words[0:4])\n",
    "    return split_to_rows(rand_words[4:])\n",
    "split_to_rows(rand_words)"
   ]
  },
  {
   "cell_type": "code",
   "execution_count": 14,
   "metadata": {},
   "outputs": [
    {
     "data": {
      "text/plain": [
       "{1: 'time',\n",
       " 2: 'time',\n",
       " 3: 'time',\n",
       " 4: 'time',\n",
       " 5: 'time',\n",
       " 6: 'time',\n",
       " 7: 'time',\n",
       " 8: 'time',\n",
       " 9: 'time',\n",
       " 10: 'time',\n",
       " 11: 'time',\n",
       " 12: 'time',\n",
       " 13: 'time',\n",
       " 14: 'time',\n",
       " 15: 'time',\n",
       " 16: 'time',\n",
       " 17: 'time',\n",
       " 18: 'time',\n",
       " 19: 'time',\n",
       " 20: 'time',\n",
       " 21: 'time',\n",
       " 22: 'time'}"
      ]
     },
     "execution_count": 14,
     "metadata": {},
     "output_type": "execute_result"
    }
   ],
   "source": [
    "rand_words = {i:\"time\" for i in list(range(1,23))}\n",
    "rand_words"
   ]
  },
  {
   "cell_type": "code",
   "execution_count": 16,
   "metadata": {},
   "outputs": [
    {
     "data": {
      "text/plain": [
       "[[(1, 'time'), (2, 'time'), (3, 'time'), (4, 'time')],\n",
       " [(5, 'time'), (6, 'time'), (7, 'time'), (8, 'time')],\n",
       " [(9, 'time'), (10, 'time'), (11, 'time'), (12, 'time')],\n",
       " [(13, 'time'), (14, 'time'), (15, 'time'), (16, 'time')],\n",
       " [(17, 'time'), (18, 'time'), (19, 'time'), (20, 'time')],\n",
       " [(21, 'time'), (22, 'time')]]"
      ]
     },
     "execution_count": 16,
     "metadata": {},
     "output_type": "execute_result"
    }
   ],
   "source": [
    "rows = [list(rand_words.items())[i: i+4] for i in range(0, len(rand_words), 4)]\n",
    "rows"
   ]
  },
  {
   "cell_type": "code",
   "execution_count": 12,
   "metadata": {},
   "outputs": [
    {
     "name": "stdout",
     "output_type": "stream",
     "text": [
      "1\n",
      "5\n",
      "9\n",
      "13\n",
      "17\n",
      "21\n"
     ]
    }
   ],
   "source": [
    "for r in rows:\n",
    "    print(r)"
   ]
  },
  {
   "cell_type": "code",
   "execution_count": null,
   "metadata": {},
   "outputs": [],
   "source": []
  }
 ],
 "metadata": {
  "kernelspec": {
   "display_name": "Python 3.10.5 ('poetry_site_venv': venv)",
   "language": "python",
   "name": "python3"
  },
  "language_info": {
   "codemirror_mode": {
    "name": "ipython",
    "version": 3
   },
   "file_extension": ".py",
   "mimetype": "text/x-python",
   "name": "python",
   "nbconvert_exporter": "python",
   "pygments_lexer": "ipython3",
   "version": "3.10.5"
  },
  "orig_nbformat": 4,
  "vscode": {
   "interpreter": {
    "hash": "340f75e9b78c3cba4fb7eb15d4071ece4eb18fa2d57622caa17a25cba78a1134"
   }
  }
 },
 "nbformat": 4,
 "nbformat_minor": 2
}
